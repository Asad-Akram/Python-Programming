{
 "cells": [
  {
   "cell_type": "code",
   "execution_count": 19,
   "id": "661dd10c",
   "metadata": {},
   "outputs": [
    {
     "name": "stdout",
     "output_type": "stream",
     "text": [
      "262\n",
      "300\n",
      "87.33333333333333\n"
     ]
    }
   ],
   "source": [
    "English = 90;\n",
    "Islamiat = 80;\n",
    "Maths = 92;\n",
    "ObM = English + Islamiat + Maths;\n",
    "Tm = 300\n",
    "Percentage = ObM/Tm*100\n",
    "print(ObM)\n",
    "print(Tm)\n",
    "print(Percentage)"
   ]
  },
  {
   "cell_type": "code",
   "execution_count": 21,
   "id": "49f77d5e",
   "metadata": {},
   "outputs": [
    {
     "name": "stdout",
     "output_type": "stream",
     "text": [
      "262 is Obtained Marks out of Total Marks 300 and Percentage is 87.33333333333333\n"
     ]
    }
   ],
   "source": [
    "English = 90;\n",
    "Islamiat = 80;\n",
    "Maths = 92;\n",
    "ObM = English + Islamiat + Maths;\n",
    "Tm = 300\n",
    "Pct = ObM/Tm*100\n",
    "print(ObM, \"is Obtained Marks out of Total Marks\", Tm, \"and Percentage is\", Pct)"
   ]
  },
  {
   "cell_type": "code",
   "execution_count": 2,
   "id": "1dfe0994",
   "metadata": {},
   "outputs": [
    {
     "name": "stdout",
     "output_type": "stream",
     "text": [
      "Total Marks: 300\n",
      "Obtained Marks: 250\n",
      "Percentage: 83.33333333333334\n",
      "Grade A+\n"
     ]
    }
   ],
   "source": [
    "English = 100\n",
    "Islamiat = 100\n",
    "Maths = 50\n",
    "ObM = English + Islamiat + Maths;\n",
    "Tm = 300\n",
    "Pct = ObM/Tm*100\n",
    "print(\"Total Marks:\", Tm)\n",
    "print(\"Obtained Marks:\", ObM)\n",
    "print(\"Percentage:\", Pct)\n",
    "if Pct >100:\n",
    "    print(\"Wrong Obtained Marks\")\n",
    "elif Pct >= 80:\n",
    "    print(\"Grade A+\")\n",
    "elif Pct >=70:\n",
    "    print(\"Grade A\")\n",
    "elif Pct >=60:\n",
    "    print(\"Grade B\")\n",
    "elif Pct >=50:\n",
    "    print(\"Grade C\")\n",
    "elif Pct >=40:\n",
    "    print(\"Grade D\")\n",
    "elif Pct >=33:\n",
    "    print(\"Grade E\")\n",
    "elif Pct >=0:\n",
    "    print(\"Fail\")\n",
    "else:\n",
    "    print(\"Error\")"
   ]
  },
  {
   "cell_type": "code",
   "execution_count": null,
   "id": "bfcf6dbd",
   "metadata": {},
   "outputs": [],
   "source": []
  },
  {
   "cell_type": "code",
   "execution_count": null,
   "id": "fc1820e4",
   "metadata": {},
   "outputs": [],
   "source": []
  },
  {
   "cell_type": "code",
   "execution_count": null,
   "id": "588fd246",
   "metadata": {},
   "outputs": [],
   "source": []
  },
  {
   "cell_type": "code",
   "execution_count": null,
   "id": "c224abfa",
   "metadata": {},
   "outputs": [],
   "source": []
  },
  {
   "cell_type": "code",
   "execution_count": null,
   "id": "be4dd3fb",
   "metadata": {},
   "outputs": [],
   "source": []
  }
 ],
 "metadata": {
  "kernelspec": {
   "display_name": "Python 3",
   "language": "python",
   "name": "python3"
  },
  "language_info": {
   "codemirror_mode": {
    "name": "ipython",
    "version": 3
   },
   "file_extension": ".py",
   "mimetype": "text/x-python",
   "name": "python",
   "nbconvert_exporter": "python",
   "pygments_lexer": "ipython3",
   "version": "3.8.8"
  }
 },
 "nbformat": 4,
 "nbformat_minor": 5
}
